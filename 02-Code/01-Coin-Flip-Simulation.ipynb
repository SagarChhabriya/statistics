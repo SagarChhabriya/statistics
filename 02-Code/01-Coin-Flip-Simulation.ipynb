{
 "cells": [
  {
   "cell_type": "code",
   "execution_count": 3,
   "metadata": {},
   "outputs": [],
   "source": [
    "import matplotlib.pyplot as plt\n",
    "import numpy as np\n",
    "import seaborn as sns"
   ]
  },
  {
   "cell_type": "code",
   "execution_count": 14,
   "metadata": {},
   "outputs": [
    {
     "data": {
      "text/plain": [
       "0.41764116850004973"
      ]
     },
     "execution_count": 14,
     "metadata": {},
     "output_type": "execute_result"
    }
   ],
   "source": [
    "np.random.uniform(low=0.0, high=1.0)"
   ]
  },
  {
   "cell_type": "code",
   "execution_count": 15,
   "metadata": {},
   "outputs": [],
   "source": [
    "# generate a flip\n",
    "def flip(num = 1):\n",
    "    flips = []\n",
    "\n",
    "    for i in range(num):\n",
    "        num = np.random.uniform(low=0.0, high=1.0)\n",
    "        if num > 0.5:\n",
    "            flips.append(\"H\")\n",
    "        else:\n",
    "            flips.append(\"T\")\n",
    "\n",
    "    return flips"
   ]
  },
  {
   "cell_type": "code",
   "execution_count": 26,
   "metadata": {},
   "outputs": [
    {
     "data": {
      "text/plain": [
       "['T', 'T', 'T', 'H', 'H', 'T', 'H', 'T', 'T', 'T']"
      ]
     },
     "execution_count": 26,
     "metadata": {},
     "output_type": "execute_result"
    }
   ],
   "source": [
    "flip(10)"
   ]
  },
  {
   "cell_type": "code",
   "execution_count": 44,
   "metadata": {},
   "outputs": [
    {
     "name": "stdout",
     "output_type": "stream",
     "text": [
      "['T', 'T', 'H', 'H', 'T', 'T', 'T', 'T', 'T', 'H']\n"
     ]
    },
    {
     "data": {
      "text/plain": [
       "(array(['H', 'T'], dtype='<U1'), array([3, 7]))"
      ]
     },
     "execution_count": 44,
     "metadata": {},
     "output_type": "execute_result"
    }
   ],
   "source": [
    "flips = flip(10)\n",
    "print(flips)\n",
    "value, counts = np.unique(flips, return_counts=True)\n",
    "value, counts"
   ]
  },
  {
   "cell_type": "markdown",
   "metadata": {},
   "source": [
    "### Rewrite above code in single cell"
   ]
  },
  {
   "cell_type": "code",
   "execution_count": 65,
   "metadata": {},
   "outputs": [
    {
     "name": "stdout",
     "output_type": "stream",
     "text": [
      "['T', 'H', 'T', 'H', 'H', 'T', 'H', 'T', 'T', 'T']\n",
      "['H' 'T'] [4 6]\n"
     ]
    }
   ],
   "source": [
    "# generate a flip\n",
    "def flip(num = 1):\n",
    "    flips = []\n",
    "\n",
    "    for i in range(num):\n",
    "        num = np.random.uniform(low=0.0, high=1.0)\n",
    "        if num > 0.5:\n",
    "            flips.append(\"H\")\n",
    "        else:\n",
    "            flips.append(\"T\")\n",
    "\n",
    "    return flips\n",
    "\n",
    "\n",
    "flips = flip(10)\n",
    "print(flips)\n",
    "value, counts = np.unique(flips, return_counts=True)\n",
    "print(value,counts)"
   ]
  },
  {
   "cell_type": "markdown",
   "metadata": {},
   "source": [
    "## Heisenbugs: A Deep Dive\n",
    "\n",
    "### Introduction to Heisenbugs\n",
    "- **Heisenbug**: A type of bug that behaves differently (or disappears) when you try to observe, debug, or trace it.\n",
    "- **Origin**: Derived from the Heisenberg Uncertainty Principle in quantum mechanics.\n",
    "  - **Principle**: You can't measure both position and velocity of a particle precisely at the same time.\n",
    "  - Similarly, Heisenbugs \"vanish\" or change when closely monitored.\n",
    "- **Characteristics**:\n",
    "  - Difficult to diagnose and fix.\n",
    "  - Hard to reproduce consistently.\n",
    "  - Common in systems with timing, environmental conditions, or multi-threading.\n",
    "- **Contexts**: \n",
    "  - Multi-threaded applications.\n",
    "  - Random number generation.\n",
    "  - Timing-sensitive operations.\n",
    "  - Hardware interaction.\n",
    "- **Key Feature**: **Intermittency** — may not occur the same way each time or may disappear during inspection.\n",
    "\n",
    "### The Role of Timing and Debugging in Heisenbugs\n",
    "- **Causes**: \n",
    "  - Interaction between **race conditions**, **multithreading**, **randomization**, and **debugging techniques**.\n",
    "  - Timing-sensitive bugs, which can change behavior depending on system conditions and debugging tools.\n",
    "- Example: Random number generation in a coin-flipping program.\n"
   ]
  },
  {
   "cell_type": "markdown",
   "metadata": {},
   "source": [
    "#### **Introduction to Heisenbugs**\n",
    "- **Heisenbug**: A software bug that behaves differently (or disappears) when you attempt to observe, debug, or trace it.\n",
    "- **Derived from**: The Heisenberg Uncertainty Principle, which states that the act of observation affects the system being observed.\n",
    "- **Characteristics**:\n",
    "  - Difficult to reproduce consistently.\n",
    "  - Appears or disappears depending on the environment or debugging tools used.\n",
    "\n",
    "---\n",
    "\n",
    "#### **Potential Heisenbug Scenarios in Coin-Flip Example**\n",
    "- **Randomness**:\n",
    "  - The sequence of heads and tails changes every time the program runs because of the randomness of the coin flips.\n",
    "  - Makes it difficult to reproduce the exact behavior from one run to the next.\n",
    "  \n",
    "- **Debugging Randomness**:\n",
    "  - Adding breakpoints or print statements can affect the timing of random number generation.\n",
    "  - The sequence of flips might change due to the debugger’s interference with timing, resulting in a different distribution of heads and tails.\n",
    "\n",
    "- **Intermittent Behavior**:\n",
    "  - The program might run fine on one machine but behave differently when run under a debugger or in a different environment (e.g., different OS or hardware).\n",
    "  - Randomness might be influenced by system factors like CPU load or memory, causing inconsistencies.\n",
    "\n",
    "- **Timing Sensitivity**:\n",
    "  - In more complex programs (e.g., involving multithreading), timing-sensitive bugs may emerge.\n",
    "  - The order in which threads or processes execute can affect the outcome, causing behavior to change based on when and how the code is executed.\n",
    "\n",
    "---\n",
    "\n",
    "#### **Causes of Heisenbugs**\n",
    "- **Randomization**:\n",
    "  - Random number generation introduces unpredictability, and observing the system can trigger new random values, which may change the behavior.\n",
    "  - Debugging (e.g., print statements or breakpoints) can alter the randomness and obscure the bug.\n",
    "\n",
    "- **Multithreading and Concurrency**:\n",
    "  - Heisenbugs often occur in multi-threaded environments due to **race conditions** (multiple threads trying to access shared resources in an unpredictable order).\n",
    "  - Timing conditions and thread scheduling can affect the bug’s appearance, with debugging tools potentially altering thread execution order.\n",
    "\n",
    "- **System and Environmental Factors**:\n",
    "  - Environmental factors like **CPU load**, **memory usage**, **system clock timing**, or the **Python interpreter version** can influence the behavior of the program.\n",
    "  - Heisenbugs may manifest only under specific system conditions or configurations.\n",
    "\n",
    "- **Debugger Interference**:\n",
    "  - Debuggers often pause execution, altering the program’s timing and flow, which can affect random number generation or thread scheduling.\n",
    "  - This interference may cause the bug to disappear when debugging tools are used.\n",
    "\n",
    "---\n",
    "\n",
    "#### **How to Identify and Diagnose Heisenbugs**\n",
    "- **Reproduce the Bug Consistently**:\n",
    "  - Try to reproduce the issue under controlled conditions.\n",
    "  - Use fixed **seed values** for random number generators to reduce unpredictability.\n",
    "  - Run the program in a controlled environment (e.g., **virtual machine** or **container**).\n",
    "\n",
    "- **Minimize Interference**:\n",
    "  - Be mindful that debugging tools, print statements, or logging can interfere with the program's behavior.\n",
    "  - Focus on observing the state of the system in a non-intrusive way (e.g., logging instead of using breakpoints).\n",
    "\n",
    "- **Introduce Logging**:\n",
    "  - Use extensive **logging** throughout the code to track system behavior.\n",
    "  - This can help monitor the program’s state without disrupting execution or affecting timing.\n",
    "\n",
    "- **Add Timing Controls**:\n",
    "  - For timing-sensitive issues, introduce **delays** or synchronized access to shared resources to make the bug more predictable.\n",
    "  - This can help reproduce and observe how timing affects the behavior.\n",
    "\n",
    "- **Use Unit Testing and Stress Testing**:\n",
    "  - Implement **automated unit tests** to repeatedly run the program under various conditions.\n",
    "  - Perform **stress testing** with different inputs and workloads to catch bugs that only occur under specific conditions or loads."
   ]
  },
  {
   "cell_type": "markdown",
   "metadata": {},
   "source": [
    "### Predictable vs. Unpredictable Randomness\n",
    "\n",
    "#### **Predictable Randomness**\n",
    "- **Definition**: Random sequence is reproducible with the same initial conditions.\n",
    "- **Characteristics**:\n",
    "  - **Deterministic**: Same results with the same seed.\n",
    "  - **Used in**: Testing, simulations, games.\n",
    "- **Example**: \n",
    "\n",
    "  ```python\n",
    "  import random\n",
    "  random.seed(42)  # Fixed seed, same result every run\n",
    "  print(random.randint(1, 100))  # Predictable output\n",
    "  ```\n",
    "\n",
    "- **Libraries**: `random.seed()` (Python).\n",
    "\n",
    "#### **Unpredictable Randomness**\n",
    "- **Definition**: Sequence cannot be predicted, even with the same initial conditions.\n",
    "- **Characteristics**:\n",
    "  - **Non-deterministic**: Varies each time.\n",
    "  - **True randomness**: Influenced by external factors (e.g., hardware, noise).\n",
    "- **Example**: \n",
    "\n",
    "  ```python\n",
    "  import os\n",
    "  random_value = os.urandom(16)  # Unpredictable random bytes\n",
    "  print(random_value)\n",
    "  ```\n",
    "\n",
    "- **Use Cases**: Cryptography, security.\n",
    "\n",
    "### Key Differences\n",
    "| **Predictable**           | **Unpredictable**          |\n",
    "|---------------------------|----------------------------|\n",
    "| Reproducible with seed     | Non-reproducible           |\n",
    "| Deterministic             | True randomness            |\n",
    "| Used for testing, simulations | Used for security, cryptography |\n",
    "```"
   ]
  },
  {
   "cell_type": "markdown",
   "metadata": {},
   "source": [
    "### What is a Seed?\n",
    "\n",
    "- **Seed**: A **seed** is an initial value that is used to start the random number generation process in a program.\n",
    "- **Purpose**: It ensures that the sequence of random numbers is **predictable** and **reproducible** when the program is run multiple times.\n",
    "- **Analogy**: Think of the seed as the starting point or \"starting number\" for a random process, like planting a seed to grow the same tree each time.\n",
    "  \n",
    "### How It Works:\n",
    "- If you use the same seed value every time, the random number generator will produce the **same sequence** of random numbers each time.\n",
    "- This is useful when you need to **repeat experiments** or **debug** your code, as the random values will always be the same when the seed is fixed.\n",
    "\n",
    "### Example:\n",
    "```python\n",
    "import random\n",
    "\n",
    "random.seed(42)  # Seed is 42\n",
    "print(random.randint(1, 100))  # Always prints the same number when run with seed 42\n",
    "```\n",
    "\n",
    "- **Why Use a Seed?**: When debugging or testing, you might want **consistent results** even with randomness, so using a seed ensures you get the same output every time you run the program."
   ]
  },
  {
   "cell_type": "markdown",
   "metadata": {},
   "source": [
    "### What is Pseudorandomness?\n",
    "\n",
    "- **Pseudorandomness** refers to numbers that **appear random** but are actually generated by a deterministic process (i.e., a set algorithm or formula).\n",
    "- **Not truly random**: These numbers are not generated by natural, unpredictable phenomena (like atmospheric noise or radioactive decay). Instead, they are produced by an algorithm, which makes them **reproducible** if the starting point (the \"seed\") is the same.\n",
    "- **Deterministic**: Given the same seed, the sequence of pseudorandom numbers will always be the same, which is why they are called \"pseudorandom.\"\n",
    "\n",
    "### Key Points:\n",
    "- **Pseudorandom Numbers**: Numbers that **look random** but are generated by a specific algorithm.\n",
    "- **Deterministic Process**: The process is predictable if you know the algorithm and the seed.\n",
    "- **Why \"Pseudo\"?**: The prefix \"pseudo\" means \"false\" or \"pretend\" because, while the numbers behave randomly, they are ultimately predictable and not truly random.\n",
    "\n",
    "### Example:\n",
    "When you use `random.seed()` in Python, it generates pseudorandom numbers:\n",
    "```python\n",
    "import random\n",
    "\n",
    "random.seed(10)  # Same seed = same result\n",
    "print(random.randint(1, 100))  # Output is always the same with the same seed\n",
    "```\n",
    "\n",
    "In this case, the sequence of numbers is pseudorandom because it follows a deterministic pattern, but it appears random during execution."
   ]
  },
  {
   "cell_type": "markdown",
   "metadata": {},
   "source": [
    "## Probability of Flip Coins"
   ]
  },
  {
   "cell_type": "code",
   "execution_count": 66,
   "metadata": {},
   "outputs": [],
   "source": [
    "from collections import Counter, defaultdict\n",
    "\n",
    "def get_frequency(flips):\n",
    "    keys = Counter(flips).keys()\n",
    "    values = Counter(flips).values()\n",
    "\n",
    "    # return dict(zip(keys,values)) # But what if there are no 'H' or no 'T'? KeyError\n",
    "\n",
    "    return defaultdict(int, dict(zip(keys,values))) # The default dict will return the default value of that datatype when the doesn't exist\n",
    "\n",
    "\n"
   ]
  },
  {
   "cell_type": "code",
   "execution_count": 78,
   "metadata": {},
   "outputs": [
    {
     "name": "stdout",
     "output_type": "stream",
     "text": [
      "['T', 'H', 'H', 'T', 'H', 'T', 'T', 'T', 'T', 'T']\n",
      "defaultdict(<class 'int'>, {'T': 7, 'H': 3})\n",
      "0.3\n"
     ]
    }
   ],
   "source": [
    "flips = flip(10)\n",
    "frequency = get_frequency(flips=flips)\n",
    "prob_Head = frequency['H'] / len(flips)\n",
    "\n",
    "\n",
    "print(flips)\n",
    "print(frequency)\n",
    "print(prob_Head)\n"
   ]
  },
  {
   "cell_type": "markdown",
   "metadata": {},
   "source": [
    "## Experiment: Probability Calculated based on 1 flip to N flips"
   ]
  },
  {
   "cell_type": "code",
   "execution_count": 79,
   "metadata": {},
   "outputs": [],
   "source": [
    "max_flips = 1000\n",
    "\n",
    "probs = []\n",
    "\n",
    "for num_flips in range(1,max_flips):\n",
    "    flips = flip(num_flips)\n",
    "    frequency = get_frequency(flips=flips)\n",
    "    prob_head = frequency['H'] / len(flips)\n",
    "\n",
    "\n",
    "    probs.append(prob_head)"
   ]
  },
  {
   "cell_type": "code",
   "execution_count": 81,
   "metadata": {},
   "outputs": [
    {
     "name": "stdout",
     "output_type": "stream",
     "text": [
      "defaultdict(<class 'int'>, {'T': 479, 'H': 520})\n"
     ]
    }
   ],
   "source": [
    "print(frequency)"
   ]
  },
  {
   "cell_type": "code",
   "execution_count": 82,
   "metadata": {},
   "outputs": [
    {
     "data": {
      "image/png": "[encoded data removed]",
      "text/plain": [
       "<Figure size 640x480 with 1 Axes>"
      ]
     },
     "metadata": {},
     "output_type": "display_data"
    }
   ],
   "source": [
    "plt.plot(probs)\n",
    "plt.xlabel(\"Number of flips in Experiment\")\n",
    "plt.ylabel(\"Estimated Probability\")\n",
    "plt.title(\"Calculating Probability over Number of Flips\")\n",
    "\n",
    "sns.despine(offset=10, trim=True) # Move axes away\n",
    "plt.show()"
   ]
  },
  {
   "cell_type": "markdown",
   "metadata": {},
   "source": [
    "## Bokeh"
   ]
  },
  {
   "cell_type": "code",
   "execution_count": 118,
   "metadata": {},
   "outputs": [
    {
     "name": "stdout",
     "output_type": "stream",
     "text": [
      "Requirement already satisfied: bokeh in /usr/local/python/3.12.1/lib/python3.12/site-packages (3.6.2)\n",
      "Requirement already satisfied: Jinja2>=2.9 in /home/codespace/.local/lib/python3.12/site-packages (from bokeh) (3.1.4)\n",
      "Requirement already satisfied: contourpy>=1.2 in /home/codespace/.local/lib/python3.12/site-packages (from bokeh) (1.3.0)\n",
      "Requirement already satisfied: numpy>=1.16 in /home/codespace/.local/lib/python3.12/site-packages (from bokeh) (2.1.1)\n",
      "Requirement already satisfied: packaging>=16.8 in /home/codespace/.local/lib/python3.12/site-packages (from bokeh) (24.1)\n",
      "Requirement already satisfied: pandas>=1.2 in /home/codespace/.local/lib/python3.12/site-packages (from bokeh) (2.2.3)\n",
      "Requirement already satisfied: pillow>=7.1.0 in /home/codespace/.local/lib/python3.12/site-packages (from bokeh) (10.4.0)\n",
      "Requirement already satisfied: PyYAML>=3.10 in /home/codespace/.local/lib/python3.12/site-packages (from bokeh) (6.0.2)\n",
      "Requirement already satisfied: tornado>=6.2 in /home/codespace/.local/lib/python3.12/site-packages (from bokeh) (6.4.1)\n",
      "Requirement already satisfied: xyzservices>=2021.09.1 in /usr/local/python/3.12.1/lib/python3.12/site-packages (from bokeh) (2024.9.0)\n",
      "Requirement already satisfied: MarkupSafe>=2.0 in /home/codespace/.local/lib/python3.12/site-packages (from Jinja2>=2.9->bokeh) (2.1.5)\n",
      "Requirement already satisfied: python-dateutil>=2.8.2 in /home/codespace/.local/lib/python3.12/site-packages (from pandas>=1.2->bokeh) (2.9.0.post0)\n",
      "Requirement already satisfied: pytz>=2020.1 in /home/codespace/.local/lib/python3.12/site-packages (from pandas>=1.2->bokeh) (2024.2)\n",
      "Requirement already satisfied: tzdata>=2022.7 in /home/codespace/.local/lib/python3.12/site-packages (from pandas>=1.2->bokeh) (2024.2)\n",
      "Requirement already satisfied: six>=1.5 in /home/codespace/.local/lib/python3.12/site-packages (from python-dateutil>=2.8.2->pandas>=1.2->bokeh) (1.16.0)\n",
      "\n",
      "\u001b[1m[\u001b[0m\u001b[34;49mnotice\u001b[0m\u001b[1;39;49m]\u001b[0m\u001b[39;49m A new release of pip is available: \u001b[0m\u001b[31;49m24.2\u001b[0m\u001b[39;49m -> \u001b[0m\u001b[32;49m24.3.1\u001b[0m\n",
      "\u001b[1m[\u001b[0m\u001b[34;49mnotice\u001b[0m\u001b[1;39;49m]\u001b[0m\u001b[39;49m To update, run: \u001b[0m\u001b[32;49mpython3 -m pip install --upgrade pip\u001b[0m\n"
     ]
    }
   ],
   "source": [
    "!pip install bokeh"
   ]
  },
  {
   "cell_type": "code",
   "execution_count": 119,
   "metadata": {},
   "outputs": [],
   "source": [
    "#  1. Data\n",
    "\n",
    "import numpy as np\n",
    "import pandas as pd\n",
    "df = pd.DataFrame(np.array([[33.9,4,65, 'US'], [32.4, 4, 66, 'Asia'], [21.4, 4, 109, 'Europe']]),\n",
    "                     columns= ['mpg', 'cyl',   'hp',   'origin'],\n",
    "                      index=['Toyota', 'Fiat', 'Volvo'])\n",
    "\n",
    "\n",
    "from bokeh.models import ColumnDataSource\n",
    "cds_df = ColumnDataSource(df)"
   ]
  },
  {
   "cell_type": "code",
   "execution_count": 120,
   "metadata": {},
   "outputs": [],
   "source": [
    "# 2. Plotting\n",
    "\n",
    "from bokeh.plotting import figure\n",
    "\n",
    "# Create a figure with the correct attribute names\n",
    "p1 = figure(width=300, tools='pan,box_zoom')  # use 'width' instead of 'plot_width'\n",
    "p2 = figure(width=300, height=300, x_range=(0, 8), y_range=(0, 8))\n",
    "p3 = figure()\n",
    "\n"
   ]
  },
  {
   "cell_type": "code",
   "execution_count": null,
   "metadata": {},
   "outputs": [],
   "source": []
  },
  {
   "cell_type": "code",
   "execution_count": 1,
   "metadata": {},
   "outputs": [],
   "source": [
    "from bokeh.plotting import figure, output_file, show\n",
    "\n",
    "x = [1,2,3,4,5]\n",
    "y = [2,4,6,8,10]\n",
    "\n",
    "output_file('line.html')\n",
    "\n",
    "fig = figure(title=\"Line plot example\", x_axis_label=\"x\", y_axis_label=\"y\")\n",
    "\n",
    "fig.line(x,y)\n",
    "show(fig)"
   ]
  }
 ],
 "metadata": {
  "kernelspec": {
   "display_name": "Python 3",
   "language": "python",
   "name": "python3"
  },
  "language_info": {
   "codemirror_mode": {
    "name": "ipython",
    "version": 3
   },
   "file_extension": ".py",
   "mimetype": "text/x-python",
   "name": "python",
   "nbconvert_exporter": "python",
   "pygments_lexer": "ipython3",
   "version": "3.12.1"
  }
 },
 "nbformat": 4,
 "nbformat_minor": 2
}
